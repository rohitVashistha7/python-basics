{
  "nbformat": 4,
  "nbformat_minor": 0,
  "metadata": {
    "colab": {
      "provenance": []
    },
    "kernelspec": {
      "name": "python3",
      "display_name": "Python 3"
    },
    "language_info": {
      "name": "python"
    }
  },
  "cells": [
    {
      "cell_type": "markdown",
      "source": [
        "# **PYTHON BASICS**"
      ],
      "metadata": {
        "id": "LBIGK1LwNdYX"
      }
    },
    {
      "cell_type": "markdown",
      "source": [
        "# Q1. What is Python, and why is it popular?\n",
        "   -> Python is an interpreted, object-oriented, high-level programming language known for its dynamic semantics. It was developed by Guido van Rossum and first released in 1991. Python emphasizes code readability and simplicity, allowing programmers to express concepts in fewer lines of code compared to other languages. This makes it particularly appealing for beginners and experienced developers alike.\n",
        "\n",
        "  The popularity of Python can be attributed to several factors: -  \n",
        "  - Ease of Learning: Its syntax is clear and resembles English, which facilitates learning for newcomers.\n",
        "  - Versatility: Python is used in various domains, including web development, data science, machine learning, automation, and more.\n",
        "  - Rapid Development: Python's interpreted nature allows for quick testing and debugging, enhancing productivity during development cycles.\n",
        "  - Extensive Libraries: The language boasts a rich standard library and numerous third-party packages, which provide pre-written code for common tasks.\n",
        "  - Community Support: A large community contributes to a wealth of resources tutorials, and forums that help users troubleshoot issues.\n",
        "\n",
        "\n"
      ],
      "metadata": {
        "id": "SysnyGvTNZXG"
      }
    },
    {
      "cell_type": "markdown",
      "source": [
        "#Q2. What is an Interpreter in Python?\n",
        "\n",
        " -> A Python Interpreters is a computer program that will convert the source code or an high level language into intermediate code (machine level language). It is also called translator in programming terminology. Interpreters executes the code line-by-line. This process allows developers to run their scripts without needing a separate compilation step."
      ],
      "metadata": {
        "id": "6WJRdS6hKWbp"
      }
    },
    {
      "cell_type": "markdown",
      "source": [
        "#Q3. What are Pre-defined Keywords in Python?\n",
        "  -> Pre-defined keywords in Python are reserved words that have special meanings within the language syntax. These keywords cannot be used as variable names or identifiers. Examples include `if`, `else`, `for`, `while`, `def`, `class`, `import`, and `return`. Each keyword serves a specific purpose in controlling the flow of the program or defining data structures.\n",
        "\n",
        "##Characteristics of Keywords:\n",
        "  1. Case-sensitive: All Python keywords must be written in lowercase (except True, False, and None, which are capitalized).\n",
        "  2. Pre-defined Functions: Keywords are part of the language core and cannot be redefined.\n",
        "  3. Fixed Purpose: Each keyword performs a specific task (e.g., control flow, exception handling, data types)."
      ],
      "metadata": {
        "id": "2Wa14HqSNfy7"
      }
    },
    {
      "cell_type": "markdown",
      "source": [
        "# Q 4.  Can Keywords be Used as Variable Names?\n",
        "\n",
        "  -> No, keywords cannot be used as variable names in Python. Since they have predefined meanings within the language syntax, using them as identifiers would lead to syntax errors."
      ],
      "metadata": {
        "id": "qwKweVIBN0U6"
      }
    },
    {
      "cell_type": "markdown",
      "source": [
        "# Q 5. What is Mutability in Python?\n",
        "  -> Mutability refers to the ability of an object to be changed after it has been created. In Python, mutable objects can be modified without changing their identity (e.g., lists and dictionaries), while immutable objects cannot be altered once they are defined (e.g., tuples and strings). This distinction affects how objects behave when passed between functions or assigned to variables."
      ],
      "metadata": {
        "id": "wgxsqRZPPNMb"
      }
    },
    {
      "cell_type": "markdown",
      "source": [
        "# Q 6. Why are Lists Mutable, but Tuples are Immutable?\n",
        "  -> Lists are mutable because they allow modifications such as adding or removing elements after their creation. This flexibility makes them suitable for dynamic data storage. In contrast, tuples are immutable; once created, their contents cannot be changed. This immutability provides certain advantages, such as ensuring data integrity and allowing tuples to be used as keys in dictionaries since they cannot be altered."
      ],
      "metadata": {
        "id": "DL7nl5x4Pdtt"
      }
    },
    {
      "cell_type": "markdown",
      "source": [
        "# Q 7. What is the Difference Between “==” and “is” Operators in Python?\n",
        "  -> The `==` operator checks for value equality, meaning it evaluates whether two objects have the same value. The `is` operator checks for identity equality, determining whether two references point to the same object in memory. Thus, while two distinct objects can have the same value (and return `True` with `==`), they may not be identical (returning `False` with `is`)."
      ],
      "metadata": {
        "id": "FJzcnL3wPwgK"
      }
    },
    {
      "cell_type": "markdown",
      "source": [
        "# Q 8. What are Logical Operators in Python?\n",
        "  -> Logical operators in Python are used to perform logical operations on Boolean values (True or False). They help combine conditional statements and control the flow of a program by evaluating expressions based on their truth values.\n",
        "\n",
        "  Python has three logical operators:\n",
        "1. and\t=> Returns True if both conditions are True. Eg: (x > 5 and y < 10)\n",
        "2. or\t=> Returns True if at least one condition is True. Eg: (x > 5 or y < 10)\n",
        "3. not\t=> Reverses the Boolean value of the condition. Eg: not(x > 5)\n"
      ],
      "metadata": {
        "id": "34q51QTMQHDR"
      }
    },
    {
      "cell_type": "markdown",
      "source": [
        "#  Q 9. What is Type Casting in Python?\n",
        "  -> Type casting  refers to converting one data type into another. In Python, this can be done explicitly using functions like `int()`, `float()`, or `str()`. For example:\n",
        "  ```\n",
        "  x = 5      \n",
        " # int\n",
        "y = float(x)  # converts int to float\n",
        "```\n",
        "This allows developers to ensure that operations between different types are performed correctly."
      ],
      "metadata": {
        "id": "hYERWnDwRaeL"
      }
    },
    {
      "cell_type": "markdown",
      "source": [
        "# Q 10.  What is the Difference Between Implicit and Explicit Type Casting?\n",
        "  -> Implicit Type Casting (or coercion) occurs automatically when Python converts one data type to another without explicit instruction from the programmer (e.g., adding an integer to a float).\n",
        "  \n",
        "  Explicit Type Casting requires the programmer to specify the conversion using type casting functions (e.g., converting a string  to an integer using `int()`).\n",
        "\n",
        "This distinction helps manage data types effectively during operations."
      ],
      "metadata": {
        "id": "iEkvZEbeSK2D"
      }
    },
    {
      "cell_type": "markdown",
      "source": [
        "# Q 11. What is the Purpose of Conditional Statements in Python?\n",
        "  -> Conditional statements control the flow of execution based on certain conditions being true or false. They allow programmers to execute specific blocks of code depending on whether conditions evaluate as true (`if`), false (`else`), or if multiple conditions need checking (`elif`). This enables dynamic decision-making within programs."
      ],
      "metadata": {
        "id": "KfiFancOSa9v"
      }
    },
    {
      "cell_type": "markdown",
      "source": [
        "# Q 12.  How Does the Elif Statement Work?\n",
        "  -> The `elif` statement stands for \"else if\" and allows checking multiple expressions for truthiness after an initial `if` statement. If the condition of the first `if` statement evaluates to false, the program checks the condition specified by `elif`. If that condition is true, its corresponding block of code executes; otherwise, it continues checking additional conditions or defaults to an optional `else` block at the end."
      ],
      "metadata": {
        "id": "7RjQYHgpTFdp"
      }
    },
    {
      "cell_type": "markdown",
      "source": [
        "# Q 13.  What is the Difference Between For and While Loops?\n",
        "\n",
        "  -> A for loop iterates over a sequence (like a list or string) or range of numbers, executing a block of code for each item. - A while loop continues executing a block of code as long as a specified condition remains true. This means that while loops are more flexible but can lead to infinite loops if not managed correctly, whereas for loops provide a clear structure based on a finite sequence."
      ],
      "metadata": {
        "id": "eOcMrD3CTWOR"
      }
    },
    {
      "cell_type": "markdown",
      "source": [
        "Q 14. Describe a Scenario Where a While Loop is More Suitable Than a For Loop\n",
        "\n",
        "  -> A while loop is more suitable when the number of iterations is not predetermined or depends on dynamic conditions. For example:\n",
        "```\n",
        "count = 0\n",
        "while count < 5:\n",
        "print(count)\n",
        "count += 1\n",
        "```\n",
        "In this scenario, we continue looping until we meet a specific condition (counting up to 5), which may not correspond directly to iterating over a fixed list or range."
      ],
      "metadata": {
        "id": "7sN9SW6vTjfW"
      }
    },
    {
      "cell_type": "markdown",
      "source": [
        "# **PYTHON PROGRAMMING QUESTIONS:**\n",
        "\n",
        "\n"
      ],
      "metadata": {
        "id": "jnOYkkwwT7oS"
      }
    },
    {
      "cell_type": "markdown",
      "source": [
        "# Q1.  Write a Python program to print \"Hello, World!\n",
        "\n",
        "\n",
        "\n",
        "```\n",
        "print(\"Hello, World!)\n",
        "```\n",
        "\n",
        "\n",
        "Q2.  Write a Python program that displays your name and age\n",
        "\n",
        "```\n",
        "name = input(\"Enter your name: \")  # User input for name\n",
        "age = int(input(\"Enter your age: \"))  # User input for age\n",
        "print(f\"\\nMy name is {name} and I am {age} years old.\")\n",
        "\n",
        "```\n",
        "\n",
        "Q3. Print all pre-defined keywords in Python using the keyword library\n",
        "\n",
        "```\n",
        "print(help('keywords'))\n",
        "```\n",
        "\n",
        "Q4. Check if a given word is a Python keyword\n",
        "\n",
        "```\n",
        "word = input(\"\\nEnter a word to check if it's a Python keyword: \")  # User input for checking keyword\n",
        "if keyword.iskeyword(word):\n",
        "    print(f\"'{word}' is a Python keyword.\")\n",
        "else:\n",
        "    print(f\"'{word}' is not a Python keyword.\")\n",
        "```\n",
        "\n",
        "Q5. Demonstrate difference between list and tuple\n",
        "\n",
        "```\n",
        "my_list = [1, 2, 3]\n",
        "my_tuple = (1, 2, 3)\n",
        "\n",
        "print(\"\\nOriginal List:\", my_list)\n",
        "print(\"Original Tuple:\", my_tuple)\n",
        "\n",
        "# Attempt to change elements in the list\n",
        "try:\n",
        "    index_to_change = int(input(\"\\nEnter index to change in the list (0-2): \"))\n",
        "    new_value = int(input(\"Enter new value: \"))\n",
        "    my_list[index_to_change] = new_value\n",
        "    print(\"Modified List:\", my_list)\n",
        "except (IndexError, ValueError) as e:\n",
        "    print(\"Error modifying list:\", e)\n",
        "\n",
        "# Attempt to change elements in the tuple (will raise an error)\n",
        "try:\n",
        "    print(\"Trying to modify tuple...\")\n",
        "    my_tuple[0] = 10  # This will raise an error\n",
        "except TypeError as e:\n",
        "    print(\"Error modifying tuple:\", e)\n",
        "\n",
        "```\n",
        "\n",
        "Q 6.  Demonstrate mutable and immutable arguments\n",
        "```\n",
        "mutable_arg = [1, 2, 3]\n",
        "immutable_arg = (1,)\n",
        "\n",
        "mutable_arg.append(4)  # Mutable argument can be changed\n",
        "print(\"\\nMutable argument after modification:\", mutable_arg)\n",
        "print(\"Immutable argument remains unchanged:\", immutable_arg)\n",
        "\n",
        "```\n",
        "\n",
        "Q6 AND Q7 ARE THE SAME  \n",
        "\n",
        "Q8. Demonstrate logical operators\n",
        "\n",
        "```\n",
        "a = True\n",
        "b = False\n",
        "\n",
        "print(\"\\nLogical Operators:\")\n",
        "print(f\"a AND b: {a and b}\")\n",
        "print(f\"a OR b: {a or b}\")\n",
        "print(f\"NOT a: {not a}\")\n",
        "\n",
        "```\n",
        "\n",
        "Q9. Convert user input from string to integer, float, and boolean types\n",
        "\n",
        "```\n",
        "user_input = input(\"\\nEnter a number to convert to integer, float, and boolean: \")\n",
        "\n",
        "int_value = int(user_input)\n",
        "float_value = float(user_input)\n",
        "bool_value = bool(user_input)  # Non-empty string is True\n",
        "\n",
        "print(f\"Integer: {int_value}, Float: {float_value}, Boolean: {bool_value}\")\n",
        "\n",
        "```\n",
        "\n",
        "Q10.  Type casting with list elements\n",
        "```\n",
        "mixed_list = ['1', '2', '3']\n",
        "int_list = [int(x) for x in mixed_list]\n",
        "\n",
        "print(\"\\nOriginal List:\", mixed_list)\n",
        "print(\"Type-casted List:\", int_list)\n",
        "```\n",
        "\n",
        "Q11. Check if a number is positive, negative, or zero\n",
        "\n",
        "```\n",
        "num = int(input(\"\\nEnter a number to check if it's positive, negative, or zero: \"))\n",
        "if num > 0:\n",
        "    print(f\"{num} is positive.\")\n",
        "elif num < 0:\n",
        "    print(f\"{num} is negative.\")\n",
        "else:\n",
        "    print(\"The number is zero.\")\n",
        "\n",
        "```\n",
        "\n",
        "Q12. Print numbers from 1 to 10 using a for loop\n",
        "\n",
        "```\n",
        "print(\"Numbers from 1 to 10:\")\n",
        "for i in range(1, 11):\n",
        "    print(i)\n",
        "```\n",
        "Q13.  Find the sum of all even numbers between 1 and 50\n",
        "\n",
        "```\n",
        "total_sum = sum(i for i in range(1, 51) if i % 2 == 0)\n",
        "print(\"\\nSum of all even numbers between 1 and 50:\", total_sum)\n",
        "\n",
        "```\n",
        "\n",
        "Q14. Reverse a string using a while loop\n",
        "\n",
        "```\n",
        "input_str = input(\"\\nEnter a string to reverse: \")\n",
        "reversed_string = \"\"\n",
        "index = len(input_str) - 1\n",
        "\n",
        "while index >= 0:\n",
        "    reversed_string += input_str[index]\n",
        "    index -= 1\n",
        "\n",
        "print(\"Reversed String:\", reversed_string)\n",
        "```\n",
        "\n",
        "Q15. Calculate factorial of a number using a while loop\n",
        "\n",
        "```\n",
        "num_for_factorial = int(input(\"\\nEnter a number to calculate its factorial: \"))\n",
        "result = 1\n",
        "\n",
        "while num_for_factorial > 1:\n",
        "    result *= num_for_factorial\n",
        "    num_for_factorial -= 1\n",
        "\n",
        "print(f\"Factorial: {result}\")\n",
        "\n",
        "```"
      ],
      "metadata": {
        "id": "f-Ywh0mVUI3a"
      }
    },
    {
      "cell_type": "markdown",
      "source": [
        "                                                                                -------------------- END OF PROJECT ---------------"
      ],
      "metadata": {
        "id": "Lzg3Bi0TyMY2"
      }
    }
  ]
}